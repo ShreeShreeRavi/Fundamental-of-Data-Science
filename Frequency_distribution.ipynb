{
  "nbformat": 4,
  "nbformat_minor": 0,
  "metadata": {
    "colab": {
      "provenance": [],
      "authorship_tag": "ABX9TyPbfCE8X7K3wb5fQ2YXwHfV"
    },
    "kernelspec": {
      "name": "python3",
      "display_name": "Python 3"
    },
    "language_info": {
      "name": "python"
    }
  },
  "cells": [
    {
      "cell_type": "markdown",
      "source": [
        "**Frequency** **distribution**"
      ],
      "metadata": {
        "id": "BVb0HVZfO5ec"
      }
    },
    {
      "cell_type": "code",
      "source": [
        "#exp4 frequency distribution\n",
        "import collections\n",
        "\n",
        "text = \"Lorem ipsum dolor sit amet consectetur adipiscing ipsum elit ipsum\"\n",
        "\n",
        "# Split the text into words\n",
        "words = text.split()\n",
        "\n",
        "# Count the frequency of each word\n",
        "word_counts = collections.Counter(words)\n",
        "\n",
        "# Print the word frequencies\n",
        "for word, count in word_counts.items():\n",
        "    print(word, \":\", count)"
      ],
      "metadata": {
        "colab": {
          "base_uri": "https://localhost:8080/"
        },
        "id": "SDvsxuK5O9tG",
        "outputId": "cec0dd7b-7429-4a21-9758-033c4d144452"
      },
      "execution_count": 1,
      "outputs": [
        {
          "output_type": "stream",
          "name": "stdout",
          "text": [
            "Lorem : 1\n",
            "ipsum : 3\n",
            "dolor : 1\n",
            "sit : 1\n",
            "amet : 1\n",
            "consectetur : 1\n",
            "adipiscing : 1\n",
            "elit : 1\n"
          ]
        }
      ]
    }
  ]
}