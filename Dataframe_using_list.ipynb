{
  "nbformat": 4,
  "nbformat_minor": 0,
  "metadata": {
    "colab": {
      "provenance": [],
      "authorship_tag": "ABX9TyMgSlO82rNgzOmN6+rgw0qE"
    },
    "kernelspec": {
      "name": "python3",
      "display_name": "Python 3"
    },
    "language_info": {
      "name": "python"
    }
  },
  "cells": [
    {
      "cell_type": "markdown",
      "source": [
        "**Dataframe using list**"
      ],
      "metadata": {
        "id": "rPG5qhBQMqpV"
      }
    },
    {
      "cell_type": "code",
      "source": [
        "#creating a dataframe using list of element\n",
        "import numpy as np\n",
        "import pandas as pd\n",
        "data = np.array([['','Col1','Col2'],\n",
        "['Row1',1,2],\n",
        "['Row2',3,4]])\n",
        "print(pd.DataFrame(data=data[1:,1:],\n",
        "index = data[1:,0],\n",
        "columns=data[0,1:]))\n",
        "# Take a 2D array as input to your DataFrame\n",
        "my_2darray = np.array([[1, 2, 3], [4, 5, 6]])\n",
        "print(pd.DataFrame(my_2darray))\n",
        "# Take a dictionary as input to your DataFrame\n",
        "my_dict = {1: ['1', '3'], 2: ['1', '2'], 3: ['2', '4']}\n",
        "print(pd.DataFrame(my_dict))\n",
        "# Take a DataFrame as input to your DataFrame\n",
        "my_df = pd.DataFrame(data=[4,5,6,7], index=range(0,4), columns=['A'])\n",
        "print(pd.DataFrame(my_df))\n",
        "# Take a Series as input to your DataFrame\n",
        "my_series = pd.Series({\"United Kingdom\":\"London\", \"India\":\"New Delhi\", \"UnitedStates\":\"Washington\", \"Belgium\":\"Brussels\"})\n",
        "print(pd.DataFrame(my_series))\n",
        "df = pd.DataFrame(np.array([[1, 2, 3], [4, 5, 6]]))\n",
        "# Use the `shape` property\n",
        "print(df.shape)\n",
        "\n",
        "# Or use the `len()` function with the `index` property\n",
        "print(len(df.index))"
      ],
      "metadata": {
        "colab": {
          "base_uri": "https://localhost:8080/"
        },
        "id": "4rL4c_hCM5_-",
        "outputId": "77cb6873-c015-4cb6-dae6-64d77970a102"
      },
      "execution_count": 1,
      "outputs": [
        {
          "output_type": "stream",
          "name": "stdout",
          "text": [
            "     Col1 Col2\n",
            "Row1    1    2\n",
            "Row2    3    4\n",
            "   0  1  2\n",
            "0  1  2  3\n",
            "1  4  5  6\n",
            "   1  2  3\n",
            "0  1  1  2\n",
            "1  3  2  4\n",
            "   A\n",
            "0  4\n",
            "1  5\n",
            "2  6\n",
            "3  7\n",
            "                         0\n",
            "United Kingdom      London\n",
            "India            New Delhi\n",
            "UnitedStates    Washington\n",
            "Belgium           Brussels\n",
            "(2, 3)\n",
            "2\n"
          ]
        }
      ]
    }
  ]
}